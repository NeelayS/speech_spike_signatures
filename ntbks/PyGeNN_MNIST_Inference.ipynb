{
  "nbformat": 4,
  "nbformat_minor": 0,
  "metadata": {
    "colab": {
      "name": "PyGeNN_MNIST_Inference.ipynb",
      "provenance": [],
      "authorship_tag": "ABX9TyNn7hYxjH/v79+IVO5qkv7f",
      "include_colab_link": true
    },
    "kernelspec": {
      "name": "python3",
      "display_name": "Python 3"
    },
    "accelerator": "GPU"
  },
  "cells": [
    {
      "cell_type": "markdown",
      "metadata": {
        "id": "view-in-github",
        "colab_type": "text"
      },
      "source": [
        "<a href=\"https://colab.research.google.com/github/NeelayS/speech_spike_signatures/blob/master/PyGeNN_MNIST_Inference.ipynb\" target=\"_parent\"><img src=\"https://colab.research.google.com/assets/colab-badge.svg\" alt=\"Open In Colab\"/></a>"
      ]
    },
    {
      "cell_type": "code",
      "metadata": {
        "id": "uFilNzMWJqPG",
        "colab_type": "code",
        "colab": {
          "base_uri": "https://localhost:8080/",
          "height": 323
        },
        "outputId": "1cdc8970-a7a8-45d0-be26-8970e8744453"
      },
      "source": [
        "!git clone https://github.com/genn-team/genn.git --branch 4.1.0"
      ],
      "execution_count": 34,
      "outputs": [
        {
          "output_type": "stream",
          "text": [
            "Cloning into 'genn'...\n",
            "remote: Enumerating objects: 3116, done.\u001b[K\n",
            "remote: Counting objects: 100% (3116/3116), done.\u001b[K\n",
            "remote: Compressing objects: 100% (1611/1611), done.\u001b[K\n",
            "remote: Total 79777 (delta 2004), reused 2220 (delta 1436), pack-reused 76661\u001b[K\n",
            "Receiving objects: 100% (79777/79777), 223.71 MiB | 14.72 MiB/s, done.\n",
            "Resolving deltas: 100% (55769/55769), done.\n",
            "Note: checking out '37e7a83b1c2c5cfa158e46f4290acb24a58d6e7f'.\n",
            "\n",
            "You are in 'detached HEAD' state. You can look around, make experimental\n",
            "changes and commit them, and you can discard any commits you make in this\n",
            "state without impacting any branches by performing another checkout.\n",
            "\n",
            "If you want to create a new branch to retain commits you create, you may\n",
            "do so (now or later) by using -b with the checkout command again. Example:\n",
            "\n",
            "  git checkout -b <new-branch-name>\n",
            "\n"
          ],
          "name": "stdout"
        }
      ]
    },
    {
      "cell_type": "code",
      "metadata": {
        "id": "NfHHxmZ1JuV1",
        "colab_type": "code",
        "colab": {
          "base_uri": "https://localhost:8080/",
          "height": 102
        },
        "outputId": "a71d78a4-3a62-42f4-9b1d-2e3e66e6513f"
      },
      "source": [
        "!sudo apt-get install swig"
      ],
      "execution_count": 35,
      "outputs": [
        {
          "output_type": "stream",
          "text": [
            "Reading package lists... Done\n",
            "Building dependency tree       \n",
            "Reading state information... Done\n",
            "swig is already the newest version (3.0.12-1).\n",
            "0 upgraded, 0 newly installed, 0 to remove and 11 not upgraded.\n"
          ],
          "name": "stdout"
        }
      ]
    },
    {
      "cell_type": "code",
      "metadata": {
        "id": "H6MclaiDJwtw",
        "colab_type": "code",
        "colab": {
          "base_uri": "https://localhost:8080/",
          "height": 1000
        },
        "outputId": "daed5926-ffeb-427e-e93e-7f65860c3ae9"
      },
      "source": [
        "import os\n",
        "os.environ['CUDA_PATH'] ='/usr/local/cuda'\n",
        "os.chdir('genn/')\n",
        "!make DYNAMIC=1 LIBRARY_DIRECTORY=`pwd`/pygenn/genn_wrapper/"
      ],
      "execution_count": 36,
      "outputs": [
        {
          "output_type": "stream",
          "text": [
            "make -C src/genn/genn\n",
            "make[1]: Entering directory '/content/genn/genn/src/genn/genn'\n",
            "mkdir -p /content/genn/genn/obj_dynamic/genn/genn\n",
            "g++ -std=c++11 -Wall -Wpedantic -Wextra -MMD -MP -I/content/genn/genn/include/genn/genn -I/content/genn/genn/include/genn/third_party -fPIC -c -o /content/genn/genn/obj_dynamic/genn/genn/synapseGroup.o synapseGroup.cc\n",
            "mkdir -p /content/genn/genn/obj_dynamic/genn/genn\n",
            "g++ -std=c++11 -Wall -Wpedantic -Wextra -MMD -MP -I/content/genn/genn/include/genn/genn -I/content/genn/genn/include/genn/third_party -fPIC -c -o /content/genn/genn/obj_dynamic/genn/genn/neuronModels.o neuronModels.cc\n",
            "mkdir -p /content/genn/genn/obj_dynamic/genn/genn\n",
            "g++ -std=c++11 -Wall -Wpedantic -Wextra -MMD -MP -I/content/genn/genn/include/genn/genn -I/content/genn/genn/include/genn/third_party -fPIC -c -o /content/genn/genn/obj_dynamic/genn/genn/initVarSnippet.o initVarSnippet.cc\n",
            "mkdir -p /content/genn/genn/obj_dynamic/genn/genn\n",
            "g++ -std=c++11 -Wall -Wpedantic -Wextra -MMD -MP -I/content/genn/genn/include/genn/genn -I/content/genn/genn/include/genn/third_party -fPIC -c -o /content/genn/genn/obj_dynamic/genn/genn/currentSource.o currentSource.cc\n",
            "mkdir -p /content/genn/genn/obj_dynamic/genn/genn\n",
            "g++ -std=c++11 -Wall -Wpedantic -Wextra -MMD -MP -I/content/genn/genn/include/genn/genn -I/content/genn/genn/include/genn/third_party -fPIC -c -o /content/genn/genn/obj_dynamic/genn/genn/weightUpdateModels.o weightUpdateModels.cc\n",
            "mkdir -p /content/genn/genn/obj_dynamic/genn/genn\n",
            "g++ -std=c++11 -Wall -Wpedantic -Wextra -MMD -MP -I/content/genn/genn/include/genn/genn -I/content/genn/genn/include/genn/third_party -fPIC -c -o /content/genn/genn/obj_dynamic/genn/genn/initSparseConnectivitySnippet.o initSparseConnectivitySnippet.cc\n",
            "mkdir -p /content/genn/genn/obj_dynamic/genn/genn\n",
            "g++ -std=c++11 -Wall -Wpedantic -Wextra -MMD -MP -I/content/genn/genn/include/genn/genn -I/content/genn/genn/include/genn/third_party -fPIC -c -o /content/genn/genn/obj_dynamic/genn/genn/binomial.o binomial.cc\n",
            "mkdir -p /content/genn/genn/obj_dynamic/genn/genn\n",
            "g++ -std=c++11 -Wall -Wpedantic -Wextra -MMD -MP -I/content/genn/genn/include/genn/genn -I/content/genn/genn/include/genn/third_party -fPIC -c -o /content/genn/genn/obj_dynamic/genn/genn/gennUtils.o gennUtils.cc\n",
            "mkdir -p /content/genn/genn/obj_dynamic/genn/genn\n",
            "g++ -std=c++11 -Wall -Wpedantic -Wextra -MMD -MP -I/content/genn/genn/include/genn/genn -I/content/genn/genn/include/genn/third_party -fPIC -c -o /content/genn/genn/obj_dynamic/genn/genn/modelSpec.o modelSpec.cc\n",
            "mkdir -p /content/genn/genn/obj_dynamic/genn/genn\n",
            "g++ -std=c++11 -Wall -Wpedantic -Wextra -MMD -MP -I/content/genn/genn/include/genn/genn -I/content/genn/genn/include/genn/third_party -fPIC -c -o /content/genn/genn/obj_dynamic/genn/genn/currentSourceModels.o currentSourceModels.cc\n",
            "mkdir -p /content/genn/genn/obj_dynamic/genn/genn\n",
            "g++ -std=c++11 -Wall -Wpedantic -Wextra -MMD -MP -I/content/genn/genn/include/genn/genn -I/content/genn/genn/include/genn/third_party -fPIC -c -o /content/genn/genn/obj_dynamic/genn/genn/neuronGroup.o neuronGroup.cc\n",
            "mkdir -p /content/genn/genn/obj_dynamic/genn/genn\n",
            "g++ -std=c++11 -Wall -Wpedantic -Wextra -MMD -MP -I/content/genn/genn/include/genn/genn -I/content/genn/genn/include/genn/third_party -fPIC -c -o /content/genn/genn/obj_dynamic/genn/genn/postsynapticModels.o postsynapticModels.cc\n",
            "mkdir -p /content/genn/genn/obj_dynamic/genn/genn/code_generator\n",
            "g++ -std=c++11 -Wall -Wpedantic -Wextra -MMD -MP -I/content/genn/genn/include/genn/genn -I/content/genn/genn/include/genn/third_party -fPIC -c -o /content/genn/genn/obj_dynamic/genn/genn/code_generator/backendBase.o code_generator/backendBase.cc\n",
            "mkdir -p /content/genn/genn/obj_dynamic/genn/genn/code_generator\n",
            "g++ -std=c++11 -Wall -Wpedantic -Wextra -MMD -MP -I/content/genn/genn/include/genn/genn -I/content/genn/genn/include/genn/third_party -fPIC -c -o /content/genn/genn/obj_dynamic/genn/genn/code_generator/generateSupportCode.o code_generator/generateSupportCode.cc\n",
            "mkdir -p /content/genn/genn/obj_dynamic/genn/genn/code_generator\n",
            "g++ -std=c++11 -Wall -Wpedantic -Wextra -MMD -MP -I/content/genn/genn/include/genn/genn -I/content/genn/genn/include/genn/third_party -fPIC -c -o /content/genn/genn/obj_dynamic/genn/genn/code_generator/generateMPI.o code_generator/generateMPI.cc\n",
            "mkdir -p /content/genn/genn/obj_dynamic/genn/genn/code_generator\n",
            "g++ -std=c++11 -Wall -Wpedantic -Wextra -MMD -MP -I/content/genn/genn/include/genn/genn -I/content/genn/genn/include/genn/third_party -fPIC -c -o /content/genn/genn/obj_dynamic/genn/genn/code_generator/generateAll.o code_generator/generateAll.cc\n",
            "mkdir -p /content/genn/genn/obj_dynamic/genn/genn/code_generator\n",
            "g++ -std=c++11 -Wall -Wpedantic -Wextra -MMD -MP -I/content/genn/genn/include/genn/genn -I/content/genn/genn/include/genn/third_party -fPIC -c -o /content/genn/genn/obj_dynamic/genn/genn/code_generator/generateMakefile.o code_generator/generateMakefile.cc\n",
            "mkdir -p /content/genn/genn/obj_dynamic/genn/genn/code_generator\n",
            "g++ -std=c++11 -Wall -Wpedantic -Wextra -MMD -MP -I/content/genn/genn/include/genn/genn -I/content/genn/genn/include/genn/third_party -fPIC -c -o /content/genn/genn/obj_dynamic/genn/genn/code_generator/generateMSBuild.o code_generator/generateMSBuild.cc\n",
            "mkdir -p /content/genn/genn/obj_dynamic/genn/genn/code_generator\n",
            "g++ -std=c++11 -Wall -Wpedantic -Wextra -MMD -MP -I/content/genn/genn/include/genn/genn -I/content/genn/genn/include/genn/third_party -fPIC -c -o /content/genn/genn/obj_dynamic/genn/genn/code_generator/generateRunner.o code_generator/generateRunner.cc\n",
            "mkdir -p /content/genn/genn/obj_dynamic/genn/genn/code_generator\n",
            "g++ -std=c++11 -Wall -Wpedantic -Wextra -MMD -MP -I/content/genn/genn/include/genn/genn -I/content/genn/genn/include/genn/third_party -fPIC -c -o /content/genn/genn/obj_dynamic/genn/genn/code_generator/generateNeuronUpdate.o code_generator/generateNeuronUpdate.cc\n",
            "mkdir -p /content/genn/genn/obj_dynamic/genn/genn/code_generator\n",
            "g++ -std=c++11 -Wall -Wpedantic -Wextra -MMD -MP -I/content/genn/genn/include/genn/genn -I/content/genn/genn/include/genn/third_party -fPIC -c -o /content/genn/genn/obj_dynamic/genn/genn/code_generator/codeGenUtils.o code_generator/codeGenUtils.cc\n",
            "mkdir -p /content/genn/genn/obj_dynamic/genn/genn/code_generator\n",
            "g++ -std=c++11 -Wall -Wpedantic -Wextra -MMD -MP -I/content/genn/genn/include/genn/genn -I/content/genn/genn/include/genn/third_party -fPIC -c -o /content/genn/genn/obj_dynamic/genn/genn/code_generator/generateSynapseUpdate.o code_generator/generateSynapseUpdate.cc\n",
            "mkdir -p /content/genn/genn/obj_dynamic/genn/genn/code_generator\n",
            "g++ -std=c++11 -Wall -Wpedantic -Wextra -MMD -MP -I/content/genn/genn/include/genn/genn -I/content/genn/genn/include/genn/third_party -fPIC -c -o /content/genn/genn/obj_dynamic/genn/genn/code_generator/generateInit.o code_generator/generateInit.cc\n",
            "mkdir -p /content/genn/genn/obj_dynamic/genn/genn/code_generator\n",
            "g++ -std=c++11 -Wall -Wpedantic -Wextra -MMD -MP -I/content/genn/genn/include/genn/genn -I/content/genn/genn/include/genn/third_party -fPIC -c -o /content/genn/genn/obj_dynamic/genn/genn/code_generator/codeStream.o code_generator/codeStream.cc\n",
            "mkdir -p /content/genn/genn/pygenn/genn_wrapper/\n",
            "g++ -shared -Wall -Wpedantic -Wextra -MMD -MP -I/content/genn/genn/include/genn/genn -I/content/genn/genn/include/genn/third_party -fPIC -o /content/genn/genn/pygenn/genn_wrapper//libgenn_dynamic.so /content/genn/genn/obj_dynamic/genn/genn/synapseGroup.o /content/genn/genn/obj_dynamic/genn/genn/neuronModels.o /content/genn/genn/obj_dynamic/genn/genn/initVarSnippet.o /content/genn/genn/obj_dynamic/genn/genn/currentSource.o /content/genn/genn/obj_dynamic/genn/genn/weightUpdateModels.o /content/genn/genn/obj_dynamic/genn/genn/initSparseConnectivitySnippet.o /content/genn/genn/obj_dynamic/genn/genn/binomial.o /content/genn/genn/obj_dynamic/genn/genn/gennUtils.o /content/genn/genn/obj_dynamic/genn/genn/modelSpec.o /content/genn/genn/obj_dynamic/genn/genn/currentSourceModels.o /content/genn/genn/obj_dynamic/genn/genn/neuronGroup.o /content/genn/genn/obj_dynamic/genn/genn/postsynapticModels.o /content/genn/genn/obj_dynamic/genn/genn/code_generator/backendBase.o /content/genn/genn/obj_dynamic/genn/genn/code_generator/generateSupportCode.o /content/genn/genn/obj_dynamic/genn/genn/code_generator/generateMPI.o /content/genn/genn/obj_dynamic/genn/genn/code_generator/generateAll.o /content/genn/genn/obj_dynamic/genn/genn/code_generator/generateMakefile.o /content/genn/genn/obj_dynamic/genn/genn/code_generator/generateMSBuild.o /content/genn/genn/obj_dynamic/genn/genn/code_generator/generateRunner.o /content/genn/genn/obj_dynamic/genn/genn/code_generator/generateNeuronUpdate.o /content/genn/genn/obj_dynamic/genn/genn/code_generator/codeGenUtils.o /content/genn/genn/obj_dynamic/genn/genn/code_generator/generateSynapseUpdate.o /content/genn/genn/obj_dynamic/genn/genn/code_generator/generateInit.o /content/genn/genn/obj_dynamic/genn/genn/code_generator/codeStream.o\n",
            "make[1]: Leaving directory '/content/genn/genn/src/genn/genn'\n",
            "make -C src/genn/backends/single_threaded_cpu\n",
            "make[1]: Entering directory '/content/genn/genn/src/genn/backends/single_threaded_cpu'\n",
            "mkdir -p /content/genn/genn/obj_dynamic/genn/backends/single_threaded_cpu\n",
            "g++ -std=c++11 -Wall -Wpedantic -Wextra -MMD -MP -I/content/genn/genn/include/genn/genn -I/content/genn/genn/include/genn/third_party -fPIC -I/content/genn/genn/include/genn/backends/single_threaded_cpu -c -o /content/genn/genn/obj_dynamic/genn/backends/single_threaded_cpu/backend.o backend.cc\n",
            "mkdir -p /content/genn/genn/obj_dynamic/genn/backends/single_threaded_cpu\n",
            "g++ -std=c++11 -Wall -Wpedantic -Wextra -MMD -MP -I/content/genn/genn/include/genn/genn -I/content/genn/genn/include/genn/third_party -fPIC -I/content/genn/genn/include/genn/backends/single_threaded_cpu -c -o /content/genn/genn/obj_dynamic/genn/backends/single_threaded_cpu/optimiser.o optimiser.cc\n",
            "mkdir -p /content/genn/genn/pygenn/genn_wrapper/\n",
            "g++ -shared -Wall -Wpedantic -Wextra -MMD -MP -I/content/genn/genn/include/genn/genn -I/content/genn/genn/include/genn/third_party -fPIC -I/content/genn/genn/include/genn/backends/single_threaded_cpu -o /content/genn/genn/pygenn/genn_wrapper//libgenn_single_threaded_cpu_backend_dynamic.so /content/genn/genn/obj_dynamic/genn/backends/single_threaded_cpu/backend.o /content/genn/genn/obj_dynamic/genn/backends/single_threaded_cpu/optimiser.o\n",
            "make[1]: Leaving directory '/content/genn/genn/src/genn/backends/single_threaded_cpu'\n",
            "make -C src/genn/backends/cuda\n",
            "make[1]: Entering directory '/content/genn/genn/src/genn/backends/cuda'\n",
            "mkdir -p /content/genn/genn/obj_dynamic/genn/backends/cuda\n",
            "g++ -std=c++11 -Wall -Wpedantic -Wextra -MMD -MP -I/content/genn/genn/include/genn/genn -I/content/genn/genn/include/genn/third_party -fPIC -I/content/genn/genn/include/genn/backends/cuda -I\"/usr/local/cuda/include\" -c -o /content/genn/genn/obj_dynamic/genn/backends/cuda/backend.o backend.cc\n",
            "mkdir -p /content/genn/genn/obj_dynamic/genn/backends/cuda\n",
            "g++ -std=c++11 -Wall -Wpedantic -Wextra -MMD -MP -I/content/genn/genn/include/genn/genn -I/content/genn/genn/include/genn/third_party -fPIC -I/content/genn/genn/include/genn/backends/cuda -I\"/usr/local/cuda/include\" -c -o /content/genn/genn/obj_dynamic/genn/backends/cuda/presynapticUpdateStrategy.o presynapticUpdateStrategy.cc\n",
            "mkdir -p /content/genn/genn/obj_dynamic/genn/backends/cuda\n",
            "g++ -std=c++11 -Wall -Wpedantic -Wextra -MMD -MP -I/content/genn/genn/include/genn/genn -I/content/genn/genn/include/genn/third_party -fPIC -I/content/genn/genn/include/genn/backends/cuda -I\"/usr/local/cuda/include\" -c -o /content/genn/genn/obj_dynamic/genn/backends/cuda/optimiser.o optimiser.cc\n",
            "mkdir -p /content/genn/genn/pygenn/genn_wrapper/\n",
            "g++ -shared -Wall -Wpedantic -Wextra -MMD -MP -I/content/genn/genn/include/genn/genn -I/content/genn/genn/include/genn/third_party -fPIC -I/content/genn/genn/include/genn/backends/cuda -I\"/usr/local/cuda/include\" -o /content/genn/genn/pygenn/genn_wrapper//libgenn_cuda_backend_dynamic.so /content/genn/genn/obj_dynamic/genn/backends/cuda/backend.o /content/genn/genn/obj_dynamic/genn/backends/cuda/presynapticUpdateStrategy.o /content/genn/genn/obj_dynamic/genn/backends/cuda/optimiser.o\n",
            "make[1]: Leaving directory '/content/genn/genn/src/genn/backends/cuda'\n"
          ],
          "name": "stdout"
        }
      ]
    },
    {
      "cell_type": "code",
      "metadata": {
        "id": "WODp35iaJ1Ux",
        "colab_type": "code",
        "colab": {
          "base_uri": "https://localhost:8080/",
          "height": 1000
        },
        "outputId": "10c3a14a-8565-4751-877a-573489879812"
      },
      "source": [
        "!python setup.py develop"
      ],
      "execution_count": 37,
      "outputs": [
        {
          "output_type": "stream",
          "text": [
            "running develop\n",
            "running egg_info\n",
            "creating pygenn.egg-info\n",
            "writing pygenn.egg-info/PKG-INFO\n",
            "writing dependency_links to pygenn.egg-info/dependency_links.txt\n",
            "writing requirements to pygenn.egg-info/requires.txt\n",
            "writing top-level names to pygenn.egg-info/top_level.txt\n",
            "writing manifest file 'pygenn.egg-info/SOURCES.txt'\n",
            "writing manifest file 'pygenn.egg-info/SOURCES.txt'\n",
            "running build_ext\n",
            "building '_StlContainers' extension\n",
            "swigging pygenn/genn_wrapper/generated/StlContainers.i to pygenn/genn_wrapper/generated/StlContainers_wrap.cpp\n",
            "swig -python -c++ -relativeimport -outdir /content/genn/genn/pygenn/genn_wrapper -I/content/genn/genn/pygenn/genn_wrapper/include -I/content/genn/genn/pygenn/genn_wrapper/generated -I/content/genn/genn/pygenn/genn_wrapper/swig -py3 -o pygenn/genn_wrapper/generated/StlContainers_wrap.cpp pygenn/genn_wrapper/generated/StlContainers.i\n",
            "creating build\n",
            "creating build/temp.linux-x86_64-3.6\n",
            "creating build/temp.linux-x86_64-3.6/pygenn\n",
            "creating build/temp.linux-x86_64-3.6/pygenn/genn_wrapper\n",
            "creating build/temp.linux-x86_64-3.6/pygenn/genn_wrapper/generated\n",
            "x86_64-linux-gnu-gcc -pthread -DNDEBUG -g -fwrapv -O2 -Wall -g -fstack-protector-strong -Wformat -Werror=format-security -Wdate-time -D_FORTIFY_SOURCE=2 -fPIC -I/content/genn/genn/pygenn/genn_wrapper/include -I/content/genn/genn/pygenn/genn_wrapper/generated -I/usr/local/lib/python3.6/dist-packages/numpy/core/include -I/usr/include/python3.6m -c pygenn/genn_wrapper/generated/StlContainers_wrap.cpp -o build/temp.linux-x86_64-3.6/pygenn/genn_wrapper/generated/StlContainers_wrap.o -std=c++11\n",
            "creating build/lib.linux-x86_64-3.6\n",
            "creating build/lib.linux-x86_64-3.6/pygenn\n",
            "creating build/lib.linux-x86_64-3.6/pygenn/genn_wrapper\n",
            "x86_64-linux-gnu-g++ -pthread -shared -Wl,-O1 -Wl,-Bsymbolic-functions -Wl,-Bsymbolic-functions -Wl,-z,relro -Wl,-Bsymbolic-functions -Wl,-z,relro -g -fstack-protector-strong -Wformat -Werror=format-security -Wdate-time -D_FORTIFY_SOURCE=2 build/temp.linux-x86_64-3.6/pygenn/genn_wrapper/generated/StlContainers_wrap.o -L/content/genn/genn/pygenn/genn_wrapper -o build/lib.linux-x86_64-3.6/pygenn/genn_wrapper/_StlContainers.cpython-36m-x86_64-linux-gnu.so\n",
            "building '_SharedLibraryModelNumpy' extension\n",
            "swigging pygenn/genn_wrapper/generated/SharedLibraryModelNumpy.i to pygenn/genn_wrapper/generated/SharedLibraryModelNumpy_wrap.cpp\n",
            "swig -python -c++ -relativeimport -outdir /content/genn/genn/pygenn/genn_wrapper -I/content/genn/genn/pygenn/genn_wrapper/include -I/content/genn/genn/pygenn/genn_wrapper/generated -I/content/genn/genn/pygenn/genn_wrapper/swig -py3 -o pygenn/genn_wrapper/generated/SharedLibraryModelNumpy_wrap.cpp pygenn/genn_wrapper/generated/SharedLibraryModelNumpy.i\n",
            "x86_64-linux-gnu-gcc -pthread -DNDEBUG -g -fwrapv -O2 -Wall -g -fstack-protector-strong -Wformat -Werror=format-security -Wdate-time -D_FORTIFY_SOURCE=2 -fPIC -I/content/genn/genn/pygenn/genn_wrapper/include -I/content/genn/genn/pygenn/genn_wrapper/generated -I/usr/local/lib/python3.6/dist-packages/numpy/core/include -I/usr/include/python3.6m -c pygenn/genn_wrapper/generated/SharedLibraryModelNumpy_wrap.cpp -o build/temp.linux-x86_64-3.6/pygenn/genn_wrapper/generated/SharedLibraryModelNumpy_wrap.o -std=c++11\n",
            "x86_64-linux-gnu-g++ -pthread -shared -Wl,-O1 -Wl,-Bsymbolic-functions -Wl,-Bsymbolic-functions -Wl,-z,relro -Wl,-Bsymbolic-functions -Wl,-z,relro -g -fstack-protector-strong -Wformat -Werror=format-security -Wdate-time -D_FORTIFY_SOURCE=2 build/temp.linux-x86_64-3.6/pygenn/genn_wrapper/generated/SharedLibraryModelNumpy_wrap.o -L/content/genn/genn/pygenn/genn_wrapper -o build/lib.linux-x86_64-3.6/pygenn/genn_wrapper/_SharedLibraryModelNumpy.cpython-36m-x86_64-linux-gnu.so\n",
            "building '_genn_wrapper' extension\n",
            "swigging pygenn/genn_wrapper/generated/genn_wrapper.i to pygenn/genn_wrapper/generated/genn_wrapper_wrap.cpp\n",
            "swig -python -c++ -relativeimport -outdir /content/genn/genn/pygenn/genn_wrapper -I/content/genn/genn/pygenn/genn_wrapper/include -I/content/genn/genn/pygenn/genn_wrapper/generated -I/content/genn/genn/pygenn/genn_wrapper/swig -py3 -I/content/genn/genn/include/genn/genn -o pygenn/genn_wrapper/generated/genn_wrapper_wrap.cpp pygenn/genn_wrapper/generated/genn_wrapper.i\n",
            "/content/genn/genn/include/genn/genn/snippet.h:72: Warning 389: operator[] ignored (consider using %extend)\n",
            "/content/genn/genn/include/genn/genn/models.h:95: Warning 389: operator[] ignored (consider using %extend)\n",
            "/content/genn/genn/pygenn/genn_wrapper/include/customVarValues.h:40: Warning 389: operator[] ignored (consider using %extend)\n",
            "/content/genn/genn/pygenn/genn_wrapper/include/customParamValues.h:31: Warning 389: operator[] ignored (consider using %extend)\n",
            "/content/genn/genn/include/genn/genn/models.h:43: Warning 401: Nothing known about base class 'Snippet::Init< InitVarSnippet::Base >'. Ignored.\n",
            "/content/genn/genn/include/genn/genn/models.h:43: Warning 401: Maybe you forgot to instantiate 'Snippet::Init< InitVarSnippet::Base >' using %template.\n",
            "/content/genn/genn/include/genn/genn/initSparseConnectivitySnippet.h:72: Warning 401: Nothing known about base class 'Snippet::Init< Base >'. Ignored.\n",
            "/content/genn/genn/include/genn/genn/initSparseConnectivitySnippet.h:72: Warning 401: Maybe you forgot to instantiate 'Snippet::Init< Base >' using %template.\n",
            "/content/genn/genn/include/genn/genn/synapseMatrixType.h:51: Warning 503: Can't wrap 'operator |' unless renamed to a valid identifier.\n",
            "x86_64-linux-gnu-gcc -pthread -DNDEBUG -g -fwrapv -O2 -Wall -g -fstack-protector-strong -Wformat -Werror=format-security -Wdate-time -D_FORTIFY_SOURCE=2 -fPIC -DLINKING_GENN_DLL=1 -DLINKING_BACKEND_DLL=1 -I/content/genn/genn/pygenn/genn_wrapper/include -I/content/genn/genn/pygenn/genn_wrapper/generated -I/usr/local/lib/python3.6/dist-packages/numpy/core/include -I/content/genn/genn/include/genn/genn -I/content/genn/genn/include/genn/third_party -I/usr/include/python3.6m -c pygenn/genn_wrapper/generated/genn_wrapper_wrap.cpp -o build/temp.linux-x86_64-3.6/pygenn/genn_wrapper/generated/genn_wrapper_wrap.o -std=c++11\n",
            "x86_64-linux-gnu-g++ -pthread -shared -Wl,-O1 -Wl,-Bsymbolic-functions -Wl,-Bsymbolic-functions -Wl,-z,relro -Wl,-Bsymbolic-functions -Wl,-z,relro -g -fstack-protector-strong -Wformat -Werror=format-security -Wdate-time -D_FORTIFY_SOURCE=2 build/temp.linux-x86_64-3.6/pygenn/genn_wrapper/generated/genn_wrapper_wrap.o -L/content/genn/genn/pygenn/genn_wrapper -Wl,--enable-new-dtags,-R$ORIGIN -lgenn_dynamic -o build/lib.linux-x86_64-3.6/pygenn/genn_wrapper/_genn_wrapper.cpython-36m-x86_64-linux-gnu.so\n",
            "building '_Snippet' extension\n",
            "swigging pygenn/genn_wrapper/swig/Snippet.i to pygenn/genn_wrapper/swig/Snippet_wrap.cpp\n",
            "swig -python -c++ -relativeimport -outdir /content/genn/genn/pygenn/genn_wrapper -I/content/genn/genn/pygenn/genn_wrapper/include -I/content/genn/genn/pygenn/genn_wrapper/generated -I/content/genn/genn/pygenn/genn_wrapper/swig -py3 -I/content/genn/genn/include/genn/genn -o pygenn/genn_wrapper/swig/Snippet_wrap.cpp pygenn/genn_wrapper/swig/Snippet.i\n",
            "/content/genn/genn/include/genn/genn/snippet.h:72: Warning 389: operator[] ignored (consider using %extend)\n",
            "creating build/temp.linux-x86_64-3.6/pygenn/genn_wrapper/swig\n",
            "x86_64-linux-gnu-gcc -pthread -DNDEBUG -g -fwrapv -O2 -Wall -g -fstack-protector-strong -Wformat -Werror=format-security -Wdate-time -D_FORTIFY_SOURCE=2 -fPIC -DLINKING_GENN_DLL=1 -DLINKING_BACKEND_DLL=1 -I/content/genn/genn/pygenn/genn_wrapper/include -I/content/genn/genn/pygenn/genn_wrapper/generated -I/usr/local/lib/python3.6/dist-packages/numpy/core/include -I/content/genn/genn/include/genn/genn -I/content/genn/genn/include/genn/third_party -I/usr/include/python3.6m -c pygenn/genn_wrapper/swig/Snippet_wrap.cpp -o build/temp.linux-x86_64-3.6/pygenn/genn_wrapper/swig/Snippet_wrap.o -std=c++11\n",
            "x86_64-linux-gnu-g++ -pthread -shared -Wl,-O1 -Wl,-Bsymbolic-functions -Wl,-Bsymbolic-functions -Wl,-z,relro -Wl,-Bsymbolic-functions -Wl,-z,relro -g -fstack-protector-strong -Wformat -Werror=format-security -Wdate-time -D_FORTIFY_SOURCE=2 build/temp.linux-x86_64-3.6/pygenn/genn_wrapper/swig/Snippet_wrap.o -L/content/genn/genn/pygenn/genn_wrapper -Wl,--enable-new-dtags,-R$ORIGIN -lgenn_dynamic -o build/lib.linux-x86_64-3.6/pygenn/genn_wrapper/_Snippet.cpython-36m-x86_64-linux-gnu.so\n",
            "building '_Models' extension\n",
            "swigging pygenn/genn_wrapper/swig/Models.i to pygenn/genn_wrapper/swig/Models_wrap.cpp\n",
            "swig -python -c++ -relativeimport -outdir /content/genn/genn/pygenn/genn_wrapper -I/content/genn/genn/pygenn/genn_wrapper/include -I/content/genn/genn/pygenn/genn_wrapper/generated -I/content/genn/genn/pygenn/genn_wrapper/swig -py3 -I/content/genn/genn/include/genn/genn -o pygenn/genn_wrapper/swig/Models_wrap.cpp pygenn/genn_wrapper/swig/Models.i\n",
            "/content/genn/genn/include/genn/genn/snippet.h:72: Warning 389: operator[] ignored (consider using %extend)\n",
            "/content/genn/genn/include/genn/genn/models.h:95: Warning 389: operator[] ignored (consider using %extend)\n",
            "/content/genn/genn/pygenn/genn_wrapper/include/customVarValues.h:40: Warning 389: operator[] ignored (consider using %extend)\n",
            "/content/genn/genn/pygenn/genn_wrapper/include/customParamValues.h:31: Warning 389: operator[] ignored (consider using %extend)\n",
            "/content/genn/genn/include/genn/genn/models.h:43: Warning 401: Nothing known about base class 'Snippet::Init< InitVarSnippet::Base >'. Ignored.\n",
            "/content/genn/genn/include/genn/genn/models.h:43: Warning 401: Maybe you forgot to instantiate 'Snippet::Init< InitVarSnippet::Base >' using %template.\n",
            "x86_64-linux-gnu-gcc -pthread -DNDEBUG -g -fwrapv -O2 -Wall -g -fstack-protector-strong -Wformat -Werror=format-security -Wdate-time -D_FORTIFY_SOURCE=2 -fPIC -DLINKING_GENN_DLL=1 -DLINKING_BACKEND_DLL=1 -I/content/genn/genn/pygenn/genn_wrapper/include -I/content/genn/genn/pygenn/genn_wrapper/generated -I/usr/local/lib/python3.6/dist-packages/numpy/core/include -I/content/genn/genn/include/genn/genn -I/content/genn/genn/include/genn/third_party -I/usr/include/python3.6m -c pygenn/genn_wrapper/swig/Models_wrap.cpp -o build/temp.linux-x86_64-3.6/pygenn/genn_wrapper/swig/Models_wrap.o -std=c++11\n",
            "x86_64-linux-gnu-g++ -pthread -shared -Wl,-O1 -Wl,-Bsymbolic-functions -Wl,-Bsymbolic-functions -Wl,-z,relro -Wl,-Bsymbolic-functions -Wl,-z,relro -g -fstack-protector-strong -Wformat -Werror=format-security -Wdate-time -D_FORTIFY_SOURCE=2 build/temp.linux-x86_64-3.6/pygenn/genn_wrapper/swig/Models_wrap.o -L/content/genn/genn/pygenn/genn_wrapper -Wl,--enable-new-dtags,-R$ORIGIN -lgenn_dynamic -o build/lib.linux-x86_64-3.6/pygenn/genn_wrapper/_Models.cpython-36m-x86_64-linux-gnu.so\n",
            "building '_InitVarSnippet' extension\n",
            "swigging pygenn/genn_wrapper/generated/InitVarSnippet.i to pygenn/genn_wrapper/generated/InitVarSnippet_wrap.cpp\n",
            "swig -python -c++ -relativeimport -outdir /content/genn/genn/pygenn/genn_wrapper -I/content/genn/genn/pygenn/genn_wrapper/include -I/content/genn/genn/pygenn/genn_wrapper/generated -I/content/genn/genn/pygenn/genn_wrapper/swig -py3 -I/content/genn/genn/include/genn/genn -o pygenn/genn_wrapper/generated/InitVarSnippet_wrap.cpp pygenn/genn_wrapper/generated/InitVarSnippet.i\n",
            "/content/genn/genn/include/genn/genn/snippet.h:72: Warning 389: operator[] ignored (consider using %extend)\n",
            "x86_64-linux-gnu-gcc -pthread -DNDEBUG -g -fwrapv -O2 -Wall -g -fstack-protector-strong -Wformat -Werror=format-security -Wdate-time -D_FORTIFY_SOURCE=2 -fPIC -DLINKING_GENN_DLL=1 -DLINKING_BACKEND_DLL=1 -I/content/genn/genn/pygenn/genn_wrapper/include -I/content/genn/genn/pygenn/genn_wrapper/generated -I/usr/local/lib/python3.6/dist-packages/numpy/core/include -I/content/genn/genn/include/genn/genn -I/content/genn/genn/include/genn/third_party -I/usr/include/python3.6m -c pygenn/genn_wrapper/generated/InitVarSnippet_wrap.cpp -o build/temp.linux-x86_64-3.6/pygenn/genn_wrapper/generated/InitVarSnippet_wrap.o -std=c++11\n",
            "x86_64-linux-gnu-gcc -pthread -DNDEBUG -g -fwrapv -O2 -Wall -g -fstack-protector-strong -Wformat -Werror=format-security -Wdate-time -D_FORTIFY_SOURCE=2 -fPIC -DLINKING_GENN_DLL=1 -DLINKING_BACKEND_DLL=1 -I/content/genn/genn/pygenn/genn_wrapper/include -I/content/genn/genn/pygenn/genn_wrapper/generated -I/usr/local/lib/python3.6/dist-packages/numpy/core/include -I/content/genn/genn/include/genn/genn -I/content/genn/genn/include/genn/third_party -I/usr/include/python3.6m -c pygenn/genn_wrapper/generated/initVarSnippetCustom.cc -o build/temp.linux-x86_64-3.6/pygenn/genn_wrapper/generated/initVarSnippetCustom.o -std=c++11\n",
            "x86_64-linux-gnu-g++ -pthread -shared -Wl,-O1 -Wl,-Bsymbolic-functions -Wl,-Bsymbolic-functions -Wl,-z,relro -Wl,-Bsymbolic-functions -Wl,-z,relro -g -fstack-protector-strong -Wformat -Werror=format-security -Wdate-time -D_FORTIFY_SOURCE=2 build/temp.linux-x86_64-3.6/pygenn/genn_wrapper/generated/InitVarSnippet_wrap.o build/temp.linux-x86_64-3.6/pygenn/genn_wrapper/generated/initVarSnippetCustom.o -L/content/genn/genn/pygenn/genn_wrapper -Wl,--enable-new-dtags,-R$ORIGIN -lgenn_dynamic -o build/lib.linux-x86_64-3.6/pygenn/genn_wrapper/_InitVarSnippet.cpython-36m-x86_64-linux-gnu.so\n",
            "building '_InitSparseConnectivitySnippet' extension\n",
            "swigging pygenn/genn_wrapper/generated/InitSparseConnectivitySnippet.i to pygenn/genn_wrapper/generated/InitSparseConnectivitySnippet_wrap.cpp\n",
            "swig -python -c++ -relativeimport -outdir /content/genn/genn/pygenn/genn_wrapper -I/content/genn/genn/pygenn/genn_wrapper/include -I/content/genn/genn/pygenn/genn_wrapper/generated -I/content/genn/genn/pygenn/genn_wrapper/swig -py3 -I/content/genn/genn/include/genn/genn -o pygenn/genn_wrapper/generated/InitSparseConnectivitySnippet_wrap.cpp pygenn/genn_wrapper/generated/InitSparseConnectivitySnippet.i\n",
            "/content/genn/genn/include/genn/genn/snippet.h:72: Warning 389: operator[] ignored (consider using %extend)\n",
            "/content/genn/genn/include/genn/genn/initSparseConnectivitySnippet.h:72: Warning 401: Nothing known about base class 'Snippet::Init< Base >'. Ignored.\n",
            "/content/genn/genn/include/genn/genn/initSparseConnectivitySnippet.h:72: Warning 401: Maybe you forgot to instantiate 'Snippet::Init< Base >' using %template.\n",
            "x86_64-linux-gnu-gcc -pthread -DNDEBUG -g -fwrapv -O2 -Wall -g -fstack-protector-strong -Wformat -Werror=format-security -Wdate-time -D_FORTIFY_SOURCE=2 -fPIC -DLINKING_GENN_DLL=1 -DLINKING_BACKEND_DLL=1 -I/content/genn/genn/pygenn/genn_wrapper/include -I/content/genn/genn/pygenn/genn_wrapper/generated -I/usr/local/lib/python3.6/dist-packages/numpy/core/include -I/content/genn/genn/include/genn/genn -I/content/genn/genn/include/genn/third_party -I/usr/include/python3.6m -c pygenn/genn_wrapper/generated/InitSparseConnectivitySnippet_wrap.cpp -o build/temp.linux-x86_64-3.6/pygenn/genn_wrapper/generated/InitSparseConnectivitySnippet_wrap.o -std=c++11\n",
            "x86_64-linux-gnu-gcc -pthread -DNDEBUG -g -fwrapv -O2 -Wall -g -fstack-protector-strong -Wformat -Werror=format-security -Wdate-time -D_FORTIFY_SOURCE=2 -fPIC -DLINKING_GENN_DLL=1 -DLINKING_BACKEND_DLL=1 -I/content/genn/genn/pygenn/genn_wrapper/include -I/content/genn/genn/pygenn/genn_wrapper/generated -I/usr/local/lib/python3.6/dist-packages/numpy/core/include -I/content/genn/genn/include/genn/genn -I/content/genn/genn/include/genn/third_party -I/usr/include/python3.6m -c pygenn/genn_wrapper/generated/initSparseConnectivitySnippetCustom.cc -o build/temp.linux-x86_64-3.6/pygenn/genn_wrapper/generated/initSparseConnectivitySnippetCustom.o -std=c++11\n",
            "x86_64-linux-gnu-g++ -pthread -shared -Wl,-O1 -Wl,-Bsymbolic-functions -Wl,-Bsymbolic-functions -Wl,-z,relro -Wl,-Bsymbolic-functions -Wl,-z,relro -g -fstack-protector-strong -Wformat -Werror=format-security -Wdate-time -D_FORTIFY_SOURCE=2 build/temp.linux-x86_64-3.6/pygenn/genn_wrapper/generated/InitSparseConnectivitySnippet_wrap.o build/temp.linux-x86_64-3.6/pygenn/genn_wrapper/generated/initSparseConnectivitySnippetCustom.o -L/content/genn/genn/pygenn/genn_wrapper -Wl,--enable-new-dtags,-R$ORIGIN -lgenn_dynamic -o build/lib.linux-x86_64-3.6/pygenn/genn_wrapper/_InitSparseConnectivitySnippet.cpython-36m-x86_64-linux-gnu.so\n",
            "building '_NeuronModels' extension\n",
            "swigging pygenn/genn_wrapper/generated/NeuronModels.i to pygenn/genn_wrapper/generated/NeuronModels_wrap.cpp\n",
            "swig -python -c++ -relativeimport -outdir /content/genn/genn/pygenn/genn_wrapper -I/content/genn/genn/pygenn/genn_wrapper/include -I/content/genn/genn/pygenn/genn_wrapper/generated -I/content/genn/genn/pygenn/genn_wrapper/swig -py3 -I/content/genn/genn/include/genn/genn -o pygenn/genn_wrapper/generated/NeuronModels_wrap.cpp pygenn/genn_wrapper/generated/NeuronModels.i\n",
            "/content/genn/genn/include/genn/genn/snippet.h:72: Warning 389: operator[] ignored (consider using %extend)\n",
            "/content/genn/genn/include/genn/genn/models.h:95: Warning 389: operator[] ignored (consider using %extend)\n",
            "/content/genn/genn/pygenn/genn_wrapper/include/customVarValues.h:40: Warning 389: operator[] ignored (consider using %extend)\n",
            "/content/genn/genn/pygenn/genn_wrapper/include/customParamValues.h:31: Warning 389: operator[] ignored (consider using %extend)\n",
            "/content/genn/genn/include/genn/genn/models.h:43: Warning 401: Nothing known about base class 'Snippet::Init< InitVarSnippet::Base >'. Ignored.\n",
            "/content/genn/genn/include/genn/genn/models.h:43: Warning 401: Maybe you forgot to instantiate 'Snippet::Init< InitVarSnippet::Base >' using %template.\n",
            "x86_64-linux-gnu-gcc -pthread -DNDEBUG -g -fwrapv -O2 -Wall -g -fstack-protector-strong -Wformat -Werror=format-security -Wdate-time -D_FORTIFY_SOURCE=2 -fPIC -DLINKING_GENN_DLL=1 -DLINKING_BACKEND_DLL=1 -I/content/genn/genn/pygenn/genn_wrapper/include -I/content/genn/genn/pygenn/genn_wrapper/generated -I/usr/local/lib/python3.6/dist-packages/numpy/core/include -I/content/genn/genn/include/genn/genn -I/content/genn/genn/include/genn/third_party -I/usr/include/python3.6m -c pygenn/genn_wrapper/generated/NeuronModels_wrap.cpp -o build/temp.linux-x86_64-3.6/pygenn/genn_wrapper/generated/NeuronModels_wrap.o -std=c++11\n",
            "x86_64-linux-gnu-gcc -pthread -DNDEBUG -g -fwrapv -O2 -Wall -g -fstack-protector-strong -Wformat -Werror=format-security -Wdate-time -D_FORTIFY_SOURCE=2 -fPIC -DLINKING_GENN_DLL=1 -DLINKING_BACKEND_DLL=1 -I/content/genn/genn/pygenn/genn_wrapper/include -I/content/genn/genn/pygenn/genn_wrapper/generated -I/usr/local/lib/python3.6/dist-packages/numpy/core/include -I/content/genn/genn/include/genn/genn -I/content/genn/genn/include/genn/third_party -I/usr/include/python3.6m -c pygenn/genn_wrapper/generated/neuronModelsCustom.cc -o build/temp.linux-x86_64-3.6/pygenn/genn_wrapper/generated/neuronModelsCustom.o -std=c++11\n",
            "x86_64-linux-gnu-g++ -pthread -shared -Wl,-O1 -Wl,-Bsymbolic-functions -Wl,-Bsymbolic-functions -Wl,-z,relro -Wl,-Bsymbolic-functions -Wl,-z,relro -g -fstack-protector-strong -Wformat -Werror=format-security -Wdate-time -D_FORTIFY_SOURCE=2 build/temp.linux-x86_64-3.6/pygenn/genn_wrapper/generated/NeuronModels_wrap.o build/temp.linux-x86_64-3.6/pygenn/genn_wrapper/generated/neuronModelsCustom.o -L/content/genn/genn/pygenn/genn_wrapper -Wl,--enable-new-dtags,-R$ORIGIN -lgenn_dynamic -o build/lib.linux-x86_64-3.6/pygenn/genn_wrapper/_NeuronModels.cpython-36m-x86_64-linux-gnu.so\n",
            "building '_PostsynapticModels' extension\n",
            "swigging pygenn/genn_wrapper/generated/PostsynapticModels.i to pygenn/genn_wrapper/generated/PostsynapticModels_wrap.cpp\n",
            "swig -python -c++ -relativeimport -outdir /content/genn/genn/pygenn/genn_wrapper -I/content/genn/genn/pygenn/genn_wrapper/include -I/content/genn/genn/pygenn/genn_wrapper/generated -I/content/genn/genn/pygenn/genn_wrapper/swig -py3 -I/content/genn/genn/include/genn/genn -o pygenn/genn_wrapper/generated/PostsynapticModels_wrap.cpp pygenn/genn_wrapper/generated/PostsynapticModels.i\n",
            "/content/genn/genn/include/genn/genn/snippet.h:72: Warning 389: operator[] ignored (consider using %extend)\n",
            "/content/genn/genn/include/genn/genn/models.h:95: Warning 389: operator[] ignored (consider using %extend)\n",
            "/content/genn/genn/pygenn/genn_wrapper/include/customVarValues.h:40: Warning 389: operator[] ignored (consider using %extend)\n",
            "/content/genn/genn/pygenn/genn_wrapper/include/customParamValues.h:31: Warning 389: operator[] ignored (consider using %extend)\n",
            "/content/genn/genn/include/genn/genn/models.h:43: Warning 401: Nothing known about base class 'Snippet::Init< InitVarSnippet::Base >'. Ignored.\n",
            "/content/genn/genn/include/genn/genn/models.h:43: Warning 401: Maybe you forgot to instantiate 'Snippet::Init< InitVarSnippet::Base >' using %template.\n",
            "x86_64-linux-gnu-gcc -pthread -DNDEBUG -g -fwrapv -O2 -Wall -g -fstack-protector-strong -Wformat -Werror=format-security -Wdate-time -D_FORTIFY_SOURCE=2 -fPIC -DLINKING_GENN_DLL=1 -DLINKING_BACKEND_DLL=1 -I/content/genn/genn/pygenn/genn_wrapper/include -I/content/genn/genn/pygenn/genn_wrapper/generated -I/usr/local/lib/python3.6/dist-packages/numpy/core/include -I/content/genn/genn/include/genn/genn -I/content/genn/genn/include/genn/third_party -I/usr/include/python3.6m -c pygenn/genn_wrapper/generated/PostsynapticModels_wrap.cpp -o build/temp.linux-x86_64-3.6/pygenn/genn_wrapper/generated/PostsynapticModels_wrap.o -std=c++11\n",
            "x86_64-linux-gnu-gcc -pthread -DNDEBUG -g -fwrapv -O2 -Wall -g -fstack-protector-strong -Wformat -Werror=format-security -Wdate-time -D_FORTIFY_SOURCE=2 -fPIC -DLINKING_GENN_DLL=1 -DLINKING_BACKEND_DLL=1 -I/content/genn/genn/pygenn/genn_wrapper/include -I/content/genn/genn/pygenn/genn_wrapper/generated -I/usr/local/lib/python3.6/dist-packages/numpy/core/include -I/content/genn/genn/include/genn/genn -I/content/genn/genn/include/genn/third_party -I/usr/include/python3.6m -c pygenn/genn_wrapper/generated/postsynapticModelsCustom.cc -o build/temp.linux-x86_64-3.6/pygenn/genn_wrapper/generated/postsynapticModelsCustom.o -std=c++11\n",
            "x86_64-linux-gnu-g++ -pthread -shared -Wl,-O1 -Wl,-Bsymbolic-functions -Wl,-Bsymbolic-functions -Wl,-z,relro -Wl,-Bsymbolic-functions -Wl,-z,relro -g -fstack-protector-strong -Wformat -Werror=format-security -Wdate-time -D_FORTIFY_SOURCE=2 build/temp.linux-x86_64-3.6/pygenn/genn_wrapper/generated/PostsynapticModels_wrap.o build/temp.linux-x86_64-3.6/pygenn/genn_wrapper/generated/postsynapticModelsCustom.o -L/content/genn/genn/pygenn/genn_wrapper -Wl,--enable-new-dtags,-R$ORIGIN -lgenn_dynamic -o build/lib.linux-x86_64-3.6/pygenn/genn_wrapper/_PostsynapticModels.cpython-36m-x86_64-linux-gnu.so\n",
            "building '_WeightUpdateModels' extension\n",
            "swigging pygenn/genn_wrapper/generated/WeightUpdateModels.i to pygenn/genn_wrapper/generated/WeightUpdateModels_wrap.cpp\n",
            "swig -python -c++ -relativeimport -outdir /content/genn/genn/pygenn/genn_wrapper -I/content/genn/genn/pygenn/genn_wrapper/include -I/content/genn/genn/pygenn/genn_wrapper/generated -I/content/genn/genn/pygenn/genn_wrapper/swig -py3 -I/content/genn/genn/include/genn/genn -o pygenn/genn_wrapper/generated/WeightUpdateModels_wrap.cpp pygenn/genn_wrapper/generated/WeightUpdateModels.i\n",
            "/content/genn/genn/include/genn/genn/snippet.h:72: Warning 389: operator[] ignored (consider using %extend)\n",
            "/content/genn/genn/include/genn/genn/models.h:95: Warning 389: operator[] ignored (consider using %extend)\n",
            "/content/genn/genn/pygenn/genn_wrapper/include/customVarValues.h:40: Warning 389: operator[] ignored (consider using %extend)\n",
            "/content/genn/genn/pygenn/genn_wrapper/include/customParamValues.h:31: Warning 389: operator[] ignored (consider using %extend)\n",
            "/content/genn/genn/include/genn/genn/models.h:43: Warning 401: Nothing known about base class 'Snippet::Init< InitVarSnippet::Base >'. Ignored.\n",
            "/content/genn/genn/include/genn/genn/models.h:43: Warning 401: Maybe you forgot to instantiate 'Snippet::Init< InitVarSnippet::Base >' using %template.\n",
            "x86_64-linux-gnu-gcc -pthread -DNDEBUG -g -fwrapv -O2 -Wall -g -fstack-protector-strong -Wformat -Werror=format-security -Wdate-time -D_FORTIFY_SOURCE=2 -fPIC -DLINKING_GENN_DLL=1 -DLINKING_BACKEND_DLL=1 -I/content/genn/genn/pygenn/genn_wrapper/include -I/content/genn/genn/pygenn/genn_wrapper/generated -I/usr/local/lib/python3.6/dist-packages/numpy/core/include -I/content/genn/genn/include/genn/genn -I/content/genn/genn/include/genn/third_party -I/usr/include/python3.6m -c pygenn/genn_wrapper/generated/WeightUpdateModels_wrap.cpp -o build/temp.linux-x86_64-3.6/pygenn/genn_wrapper/generated/WeightUpdateModels_wrap.o -std=c++11\n",
            "x86_64-linux-gnu-gcc -pthread -DNDEBUG -g -fwrapv -O2 -Wall -g -fstack-protector-strong -Wformat -Werror=format-security -Wdate-time -D_FORTIFY_SOURCE=2 -fPIC -DLINKING_GENN_DLL=1 -DLINKING_BACKEND_DLL=1 -I/content/genn/genn/pygenn/genn_wrapper/include -I/content/genn/genn/pygenn/genn_wrapper/generated -I/usr/local/lib/python3.6/dist-packages/numpy/core/include -I/content/genn/genn/include/genn/genn -I/content/genn/genn/include/genn/third_party -I/usr/include/python3.6m -c pygenn/genn_wrapper/generated/weightUpdateModelsCustom.cc -o build/temp.linux-x86_64-3.6/pygenn/genn_wrapper/generated/weightUpdateModelsCustom.o -std=c++11\n",
            "x86_64-linux-gnu-g++ -pthread -shared -Wl,-O1 -Wl,-Bsymbolic-functions -Wl,-Bsymbolic-functions -Wl,-z,relro -Wl,-Bsymbolic-functions -Wl,-z,relro -g -fstack-protector-strong -Wformat -Werror=format-security -Wdate-time -D_FORTIFY_SOURCE=2 build/temp.linux-x86_64-3.6/pygenn/genn_wrapper/generated/WeightUpdateModels_wrap.o build/temp.linux-x86_64-3.6/pygenn/genn_wrapper/generated/weightUpdateModelsCustom.o -L/content/genn/genn/pygenn/genn_wrapper -Wl,--enable-new-dtags,-R$ORIGIN -lgenn_dynamic -o build/lib.linux-x86_64-3.6/pygenn/genn_wrapper/_WeightUpdateModels.cpython-36m-x86_64-linux-gnu.so\n",
            "building '_CurrentSourceModels' extension\n",
            "swigging pygenn/genn_wrapper/generated/CurrentSourceModels.i to pygenn/genn_wrapper/generated/CurrentSourceModels_wrap.cpp\n",
            "swig -python -c++ -relativeimport -outdir /content/genn/genn/pygenn/genn_wrapper -I/content/genn/genn/pygenn/genn_wrapper/include -I/content/genn/genn/pygenn/genn_wrapper/generated -I/content/genn/genn/pygenn/genn_wrapper/swig -py3 -I/content/genn/genn/include/genn/genn -o pygenn/genn_wrapper/generated/CurrentSourceModels_wrap.cpp pygenn/genn_wrapper/generated/CurrentSourceModels.i\n",
            "/content/genn/genn/include/genn/genn/snippet.h:72: Warning 389: operator[] ignored (consider using %extend)\n",
            "/content/genn/genn/include/genn/genn/models.h:95: Warning 389: operator[] ignored (consider using %extend)\n",
            "/content/genn/genn/pygenn/genn_wrapper/include/customVarValues.h:40: Warning 389: operator[] ignored (consider using %extend)\n",
            "/content/genn/genn/pygenn/genn_wrapper/include/customParamValues.h:31: Warning 389: operator[] ignored (consider using %extend)\n",
            "/content/genn/genn/include/genn/genn/models.h:43: Warning 401: Nothing known about base class 'Snippet::Init< InitVarSnippet::Base >'. Ignored.\n",
            "/content/genn/genn/include/genn/genn/models.h:43: Warning 401: Maybe you forgot to instantiate 'Snippet::Init< InitVarSnippet::Base >' using %template.\n",
            "x86_64-linux-gnu-gcc -pthread -DNDEBUG -g -fwrapv -O2 -Wall -g -fstack-protector-strong -Wformat -Werror=format-security -Wdate-time -D_FORTIFY_SOURCE=2 -fPIC -DLINKING_GENN_DLL=1 -DLINKING_BACKEND_DLL=1 -I/content/genn/genn/pygenn/genn_wrapper/include -I/content/genn/genn/pygenn/genn_wrapper/generated -I/usr/local/lib/python3.6/dist-packages/numpy/core/include -I/content/genn/genn/include/genn/genn -I/content/genn/genn/include/genn/third_party -I/usr/include/python3.6m -c pygenn/genn_wrapper/generated/CurrentSourceModels_wrap.cpp -o build/temp.linux-x86_64-3.6/pygenn/genn_wrapper/generated/CurrentSourceModels_wrap.o -std=c++11\n",
            "x86_64-linux-gnu-gcc -pthread -DNDEBUG -g -fwrapv -O2 -Wall -g -fstack-protector-strong -Wformat -Werror=format-security -Wdate-time -D_FORTIFY_SOURCE=2 -fPIC -DLINKING_GENN_DLL=1 -DLINKING_BACKEND_DLL=1 -I/content/genn/genn/pygenn/genn_wrapper/include -I/content/genn/genn/pygenn/genn_wrapper/generated -I/usr/local/lib/python3.6/dist-packages/numpy/core/include -I/content/genn/genn/include/genn/genn -I/content/genn/genn/include/genn/third_party -I/usr/include/python3.6m -c pygenn/genn_wrapper/generated/currentSourceModelsCustom.cc -o build/temp.linux-x86_64-3.6/pygenn/genn_wrapper/generated/currentSourceModelsCustom.o -std=c++11\n",
            "x86_64-linux-gnu-g++ -pthread -shared -Wl,-O1 -Wl,-Bsymbolic-functions -Wl,-Bsymbolic-functions -Wl,-z,relro -Wl,-Bsymbolic-functions -Wl,-z,relro -g -fstack-protector-strong -Wformat -Werror=format-security -Wdate-time -D_FORTIFY_SOURCE=2 build/temp.linux-x86_64-3.6/pygenn/genn_wrapper/generated/CurrentSourceModels_wrap.o build/temp.linux-x86_64-3.6/pygenn/genn_wrapper/generated/currentSourceModelsCustom.o -L/content/genn/genn/pygenn/genn_wrapper -Wl,--enable-new-dtags,-R$ORIGIN -lgenn_dynamic -o build/lib.linux-x86_64-3.6/pygenn/genn_wrapper/_CurrentSourceModels.cpython-36m-x86_64-linux-gnu.so\n",
            "building '_SingleThreadedCPUBackend' extension\n",
            "swigging pygenn/genn_wrapper/generated/SingleThreadedCPUBackend.i to pygenn/genn_wrapper/generated/SingleThreadedCPUBackend_wrap.cpp\n",
            "swig -python -c++ -relativeimport -outdir /content/genn/genn/pygenn/genn_wrapper -I/content/genn/genn/pygenn/genn_wrapper/include -I/content/genn/genn/pygenn/genn_wrapper/generated -I/content/genn/genn/pygenn/genn_wrapper/swig -py3 -I/content/genn/genn/include/genn/genn -I/content/genn/genn/include/genn/backends/single_threaded_cpu -o pygenn/genn_wrapper/generated/SingleThreadedCPUBackend_wrap.cpp pygenn/genn_wrapper/generated/SingleThreadedCPUBackend.i\n",
            "x86_64-linux-gnu-gcc -pthread -DNDEBUG -g -fwrapv -O2 -Wall -g -fstack-protector-strong -Wformat -Werror=format-security -Wdate-time -D_FORTIFY_SOURCE=2 -fPIC -DLINKING_GENN_DLL=1 -DLINKING_BACKEND_DLL=1 -I/content/genn/genn/pygenn/genn_wrapper/include -I/content/genn/genn/pygenn/genn_wrapper/generated -I/usr/local/lib/python3.6/dist-packages/numpy/core/include -I/content/genn/genn/include/genn/genn -I/content/genn/genn/include/genn/third_party -I/content/genn/genn/include/genn/backends/single_threaded_cpu -I/usr/include/python3.6m -c pygenn/genn_wrapper/generated/SingleThreadedCPUBackend_wrap.cpp -o build/temp.linux-x86_64-3.6/pygenn/genn_wrapper/generated/SingleThreadedCPUBackend_wrap.o -std=c++11\n",
            "x86_64-linux-gnu-g++ -pthread -shared -Wl,-O1 -Wl,-Bsymbolic-functions -Wl,-Bsymbolic-functions -Wl,-z,relro -Wl,-Bsymbolic-functions -Wl,-z,relro -g -fstack-protector-strong -Wformat -Werror=format-security -Wdate-time -D_FORTIFY_SOURCE=2 build/temp.linux-x86_64-3.6/pygenn/genn_wrapper/generated/SingleThreadedCPUBackend_wrap.o -L/content/genn/genn/pygenn/genn_wrapper -Wl,--enable-new-dtags,-R$ORIGIN -lgenn_single_threaded_cpu_backend_dynamic -lgenn_dynamic -o build/lib.linux-x86_64-3.6/pygenn/genn_wrapper/_SingleThreadedCPUBackend.cpython-36m-x86_64-linux-gnu.so\n",
            "building '_CUDABackend' extension\n",
            "swigging pygenn/genn_wrapper/generated/CUDABackend.i to pygenn/genn_wrapper/generated/CUDABackend_wrap.cpp\n",
            "swig -python -c++ -relativeimport -outdir /content/genn/genn/pygenn/genn_wrapper -I/content/genn/genn/pygenn/genn_wrapper/include -I/content/genn/genn/pygenn/genn_wrapper/generated -I/content/genn/genn/pygenn/genn_wrapper/swig -py3 -I/content/genn/genn/include/genn/genn -I/content/genn/genn/include/genn/backends/cuda -o pygenn/genn_wrapper/generated/CUDABackend_wrap.cpp pygenn/genn_wrapper/generated/CUDABackend.i\n",
            "x86_64-linux-gnu-gcc -pthread -DNDEBUG -g -fwrapv -O2 -Wall -g -fstack-protector-strong -Wformat -Werror=format-security -Wdate-time -D_FORTIFY_SOURCE=2 -fPIC -DLINKING_GENN_DLL=1 -DLINKING_BACKEND_DLL=1 -I/content/genn/genn/pygenn/genn_wrapper/include -I/content/genn/genn/pygenn/genn_wrapper/generated -I/usr/local/lib/python3.6/dist-packages/numpy/core/include -I/content/genn/genn/include/genn/genn -I/content/genn/genn/include/genn/third_party -I/usr/local/cuda/include -I/content/genn/genn/include/genn/backends/cuda -I/usr/include/python3.6m -c pygenn/genn_wrapper/generated/CUDABackend_wrap.cpp -o build/temp.linux-x86_64-3.6/pygenn/genn_wrapper/generated/CUDABackend_wrap.o -std=c++11\n",
            "x86_64-linux-gnu-g++ -pthread -shared -Wl,-O1 -Wl,-Bsymbolic-functions -Wl,-Bsymbolic-functions -Wl,-z,relro -Wl,-Bsymbolic-functions -Wl,-z,relro -g -fstack-protector-strong -Wformat -Werror=format-security -Wdate-time -D_FORTIFY_SOURCE=2 build/temp.linux-x86_64-3.6/pygenn/genn_wrapper/generated/CUDABackend_wrap.o -L/content/genn/genn/pygenn/genn_wrapper -L/usr/local/cuda/lib64 -Wl,--enable-new-dtags,-R$ORIGIN -lgenn_cuda_backend_dynamic -lgenn_dynamic -lcuda -lcudart -o build/lib.linux-x86_64-3.6/pygenn/genn_wrapper/_CUDABackend.cpython-36m-x86_64-linux-gnu.so\n",
            "copying build/lib.linux-x86_64-3.6/pygenn/genn_wrapper/_StlContainers.cpython-36m-x86_64-linux-gnu.so -> pygenn/genn_wrapper\n",
            "copying build/lib.linux-x86_64-3.6/pygenn/genn_wrapper/_SharedLibraryModelNumpy.cpython-36m-x86_64-linux-gnu.so -> pygenn/genn_wrapper\n",
            "copying build/lib.linux-x86_64-3.6/pygenn/genn_wrapper/_genn_wrapper.cpython-36m-x86_64-linux-gnu.so -> pygenn/genn_wrapper\n",
            "copying build/lib.linux-x86_64-3.6/pygenn/genn_wrapper/_Snippet.cpython-36m-x86_64-linux-gnu.so -> pygenn/genn_wrapper\n",
            "copying build/lib.linux-x86_64-3.6/pygenn/genn_wrapper/_Models.cpython-36m-x86_64-linux-gnu.so -> pygenn/genn_wrapper\n",
            "copying build/lib.linux-x86_64-3.6/pygenn/genn_wrapper/_InitVarSnippet.cpython-36m-x86_64-linux-gnu.so -> pygenn/genn_wrapper\n",
            "copying build/lib.linux-x86_64-3.6/pygenn/genn_wrapper/_InitSparseConnectivitySnippet.cpython-36m-x86_64-linux-gnu.so -> pygenn/genn_wrapper\n",
            "copying build/lib.linux-x86_64-3.6/pygenn/genn_wrapper/_NeuronModels.cpython-36m-x86_64-linux-gnu.so -> pygenn/genn_wrapper\n",
            "copying build/lib.linux-x86_64-3.6/pygenn/genn_wrapper/_PostsynapticModels.cpython-36m-x86_64-linux-gnu.so -> pygenn/genn_wrapper\n",
            "copying build/lib.linux-x86_64-3.6/pygenn/genn_wrapper/_WeightUpdateModels.cpython-36m-x86_64-linux-gnu.so -> pygenn/genn_wrapper\n",
            "copying build/lib.linux-x86_64-3.6/pygenn/genn_wrapper/_CurrentSourceModels.cpython-36m-x86_64-linux-gnu.so -> pygenn/genn_wrapper\n",
            "copying build/lib.linux-x86_64-3.6/pygenn/genn_wrapper/_SingleThreadedCPUBackend.cpython-36m-x86_64-linux-gnu.so -> pygenn/genn_wrapper\n",
            "copying build/lib.linux-x86_64-3.6/pygenn/genn_wrapper/_CUDABackend.cpython-36m-x86_64-linux-gnu.so -> pygenn/genn_wrapper\n",
            "Creating /usr/local/lib/python3.6/dist-packages/pygenn.egg-link (link to .)\n",
            "Removing pygenn 0.2.1 from easy-install.pth file\n",
            "Adding pygenn 0.2.1 to easy-install.pth file\n",
            "\n",
            "Installed /content/genn/genn\n",
            "Processing dependencies for pygenn==0.2.1\n",
            "Searching for six==1.15.0\n",
            "Best match: six 1.15.0\n",
            "Adding six 1.15.0 to easy-install.pth file\n",
            "\n",
            "Using /usr/local/lib/python3.6/dist-packages\n",
            "Searching for numpy==1.14.6\n",
            "Best match: numpy 1.14.6\n",
            "Processing numpy-1.14.6-py3.6-linux-x86_64.egg\n",
            "numpy 1.14.6 is already the active version in easy-install.pth\n",
            "Installing f2py script to /usr/local/bin\n",
            "\n",
            "Using /usr/local/lib/python3.6/dist-packages/numpy-1.14.6-py3.6-linux-x86_64.egg\n",
            "Finished processing dependencies for pygenn==0.2.1\n"
          ],
          "name": "stdout"
        }
      ]
    },
    {
      "cell_type": "code",
      "metadata": {
        "id": "96MJLHoAdDS6",
        "colab_type": "code",
        "colab": {
          "base_uri": "https://localhost:8080/",
          "height": 119
        },
        "outputId": "99ea1dc9-c3f3-4b3b-fe9d-5e40b05b068c"
      },
      "source": [
        "!git clone https://github.com/neworderofjamie/pygenn_ml_tutorial.git"
      ],
      "execution_count": 38,
      "outputs": [
        {
          "output_type": "stream",
          "text": [
            "Cloning into 'pygenn_ml_tutorial'...\n",
            "remote: Enumerating objects: 34, done.\u001b[K\n",
            "remote: Counting objects: 100% (34/34), done.\u001b[K\n",
            "remote: Compressing objects: 100% (23/23), done.\u001b[K\n",
            "remote: Total 34 (delta 17), reused 27 (delta 10), pack-reused 0\u001b[K\n",
            "Unpacking objects: 100% (34/34), done.\n"
          ],
          "name": "stdout"
        }
      ]
    },
    {
      "cell_type": "code",
      "metadata": {
        "id": "PC2QJYd2dpvi",
        "colab_type": "code",
        "colab": {}
      },
      "source": [
        "import numpy as np\n",
        "from os import path"
      ],
      "execution_count": 39,
      "outputs": []
    },
    {
      "cell_type": "code",
      "metadata": {
        "id": "1F-9JC0Sdvtu",
        "colab_type": "code",
        "colab": {}
      },
      "source": [
        "from pygenn.genn_model import (create_custom_neuron_class, \n",
        "                               create_custom_current_source_class,\n",
        "                               GeNNModel)\n",
        "from pygenn.genn_wrapper import NO_DELAY"
      ],
      "execution_count": 40,
      "outputs": []
    },
    {
      "cell_type": "code",
      "metadata": {
        "id": "Lwj5mW8HeA92",
        "colab_type": "code",
        "colab": {}
      },
      "source": [
        "# Parameters\n",
        "\n",
        "IF_PARAMS = {\"Vthr\": 5.0}           # Spiking threshold\n",
        "TIMESTEP = 1.0\n",
        "PRESENT_TIMESTEPS = 100             # No. of timesteps one sample is presented\n",
        "INPUT_CURRENT_SCALE = 1.0/100.0     # Scaling image intensity to input currents"
      ],
      "execution_count": 41,
      "outputs": []
    },
    {
      "cell_type": "code",
      "metadata": {
        "id": "A3Bv5SLBey7r",
        "colab_type": "code",
        "colab": {}
      },
      "source": [
        "# Custom GeNN model\n",
        "\n",
        "# Integrate-and-fire\n",
        "\n",
        "# Blueprint of all neurons in the network\n",
        "\n",
        "# Parameters are common for all neurons in the network (here Vthr)\n",
        "\n",
        "if_model = create_custom_neuron_class(\n",
        "    \"if_model\",                                                             # name of model\n",
        "    param_names=[\"Vthr\"],                 \n",
        "    var_name_types=[(\"V\", \"scalar\"), (\"SpikeCount\", \"unsigned int\")],       # State variables that track every neuron's membrane voltage and spike count\n",
        "    sim_code=\"$(V) += $(Isyn) * DT;\",                                       # Specifies that neurons simply integrate input current every timestep\n",
        "    reset_code=\"\"\"\n",
        "    $(V) = 0.0;                                                             \n",
        "    $(SpikeCount)++;\n",
        "    \"\"\",\n",
        "    threshold_condition_code=\"$(V) >= $(Vthr)\")                             # Specifies that neurons spike when their voltage goes above a threshold Vth\n",
        "\n",
        "# reset_code -> specifies that voltage is reset to 0 and spike count is incremented for a neuron whenever it fires"
      ],
      "execution_count": 42,
      "outputs": []
    },
    {
      "cell_type": "code",
      "metadata": {
        "id": "8JsWLZH9imEo",
        "colab_type": "code",
        "colab": {}
      },
      "source": [
        "# Current source model \n",
        "\n",
        "# Injects current specified by the state variables every timestep\n",
        "\n",
        "cs_model = create_custom_current_source_class(\n",
        "    \"cs_model\",                                                              # name of model\n",
        "    var_name_types=[(\"magnitude\", \"scalar\")],                                # state variables\n",
        "    injection_code=\"$(injectCurrent, $(magnitude));\")                        # injection_code -> string with the current injection code"
      ],
      "execution_count": 43,
      "outputs": []
    },
    {
      "cell_type": "code",
      "metadata": {
        "id": "ur7ZE3AQjOW4",
        "colab_type": "code",
        "colab": {}
      },
      "source": [
        "# Building the network\n",
        "\n",
        "# Create GeNN model\n",
        "\n",
        "model = GeNNModel(\"float\", \"tutorial_1\")                                    # tutorial_1 is the directory name where the simulation code is generated\n",
        "model.dT = TIMESTEP                                                         # simulation timestep"
      ],
      "execution_count": 44,
      "outputs": []
    },
    {
      "cell_type": "code",
      "metadata": {
        "id": "WYzSNVQzGWAY",
        "colab_type": "code",
        "colab": {
          "base_uri": "https://localhost:8080/",
          "height": 153
        },
        "outputId": "2ae6ba4d-0741-46ac-ca5a-f1202d5193d0"
      },
      "source": [
        "!ls"
      ],
      "execution_count": 45,
      "outputs": [
        {
          "output_type": "stream",
          "text": [
            "bin\t\t\t     Jenkinsfile  py_filter.sh\t      src\n",
            "build\t\t\t     lib\t  pygenn\t      tests\n",
            "codecov.yml\t\t     LICENSE.txt  pygenn.egg-info     userproject\n",
            "CODE_OF_CONDUCT.md\t     makedoc.sh   pygenn_ml_tutorial  version.txt\n",
            "doxygen\t\t\t     Makefile\t  README.md\t      www\n",
            "generate_swig_interfaces.py  obj_dynamic  README.txt\n",
            "genn.sln\t\t     publishdoc   setup.py\n",
            "include\t\t\t     __pycache__  spineml.sln\n"
          ],
          "name": "stdout"
        }
      ]
    },
    {
      "cell_type": "code",
      "metadata": {
        "id": "1JBPif_WjWnq",
        "colab_type": "code",
        "colab": {}
      },
      "source": [
        "# Load weights if already present into a list\n",
        "\n",
        "weights = []\n",
        "while True:\n",
        "    filename = \"pygenn_ml_tutorial/weights_%u_%u.npy\" % (len(weights), len(weights) + 1)\n",
        "    if path.exists(filename):\n",
        "        weights.append(np.load(filename))\n",
        "    else:\n",
        "        break"
      ],
      "execution_count": 46,
      "outputs": []
    },
    {
      "cell_type": "code",
      "metadata": {
        "id": "Ol4zlMxfGquD",
        "colab_type": "code",
        "colab": {
          "base_uri": "https://localhost:8080/",
          "height": 34
        },
        "outputId": "a7d22e70-3ff4-423b-f622-ea1eb19461f4"
      },
      "source": [
        "type(weights)"
      ],
      "execution_count": 47,
      "outputs": [
        {
          "output_type": "execute_result",
          "data": {
            "text/plain": [
              "list"
            ]
          },
          "metadata": {
            "tags": []
          },
          "execution_count": 47
        }
      ]
    },
    {
      "cell_type": "code",
      "metadata": {
        "id": "wyWvawhLGtj0",
        "colab_type": "code",
        "colab": {
          "base_uri": "https://localhost:8080/",
          "height": 34
        },
        "outputId": "943881b5-90d1-49b1-84f7-ff77da7e6f63"
      },
      "source": [
        "len(weights)"
      ],
      "execution_count": 48,
      "outputs": [
        {
          "output_type": "execute_result",
          "data": {
            "text/plain": [
              "2"
            ]
          },
          "metadata": {
            "tags": []
          },
          "execution_count": 48
        }
      ]
    },
    {
      "cell_type": "code",
      "metadata": {
        "id": "Z1Jhjmo2GwnA",
        "colab_type": "code",
        "colab": {
          "base_uri": "https://localhost:8080/",
          "height": 34
        },
        "outputId": "cb6f2ed3-b288-4d7a-a947-1094b3a2924f"
      },
      "source": [
        "weights[0].shape, weights[1].shape"
      ],
      "execution_count": 49,
      "outputs": [
        {
          "output_type": "execute_result",
          "data": {
            "text/plain": [
              "((784, 128), (128, 10))"
            ]
          },
          "metadata": {
            "tags": []
          },
          "execution_count": 49
        }
      ]
    },
    {
      "cell_type": "code",
      "metadata": {
        "id": "0e63rrZghWZx",
        "colab_type": "code",
        "colab": {}
      },
      "source": [
        "# Initial values for all IF neurons\n",
        "if_init = {\"V\": 0.0, \"SpikeCount\":0}"
      ],
      "execution_count": 50,
      "outputs": []
    },
    {
      "cell_type": "code",
      "metadata": {
        "id": "Mxz8s4zihhAe",
        "colab_type": "code",
        "colab": {}
      },
      "source": [
        "# Create first neuron layer                                                             # http://genn-team.github.io/genn/documentation/4/html/db/d57/classpygenn_1_1genn__model_1_1GeNNModel.html#a100324e214546094fced5e66fb0582d4\n",
        "neuron_layers = [model.add_neuron_population(\"neuron0\", weights[0].shape[0],            # 1 neuron for each of the first layer's input dimensions\n",
        "                                             if_model, IF_PARAMS, if_init)]             # population -> layer\n",
        "\n",
        "# Create subsequent neuron layer\n",
        "for i, w in enumerate(weights):\n",
        "    neuron_layers.append(model.add_neuron_population(\"neuron%u\" % (i + 1),\n",
        "                                                     w.shape[1], if_model,\n",
        "                                                     IF_PARAMS, if_init))"
      ],
      "execution_count": 51,
      "outputs": []
    },
    {
      "cell_type": "code",
      "metadata": {
        "id": "H46Hlzp6il2B",
        "colab_type": "code",
        "colab": {}
      },
      "source": [
        "# Create synaptic connections between layers\n",
        "for i, (pre, post, w) in enumerate(zip(neuron_layers[:-1], neuron_layers[1:], weights)):\n",
        "    model.add_synapse_population(\n",
        "        \"synapse%u\" % i, \"DENSE_INDIVIDUALG\", NO_DELAY,\n",
        "        pre, post,                                              # pre -> source population, post -> target population\n",
        "        \"StaticPulse\", {}, {\"g\": w.flatten()}, {}, {},          # StaticPulse -> weight update model (static here because it is used with pretrained weights)\n",
        "        \"DeltaCurr\", {}, {})\n",
        "\n",
        "#  add_synapse_population docs - http://genn-team.github.io/genn/documentation/4/html/db/d57/classpygenn_1_1genn__model_1_1GeNNModel.html#ab573f92c82ec25d5c80f94070b6008c0  \n",
        "\n",
        "#  \"synapse%u\" % i -> name of synapse population\n",
        "\n",
        "#  \"DENSE_INDIVIDUALG\" -> dense matrix with individual state varibales(weights) for each synapse  (http://genn-team.github.io/genn/documentation/4/html/dd/dd5/synapseMatrixType_8h.html#a24a045033b9a7e987843a67ff5ddec9c)\n",
        "\n",
        "#  NO_DELAY -> no synaptic delays (can specify delay in terms of no. of simulation timesteps)   (http://genn-team.github.io/genn/documentation/4/html/db/d57/classpygenn_1_1genn__model_1_1GeNNModel.html#ab573f92c82ec25d5c80f94070b6008c0)\n",
        "\n",
        "#  StaticPulse -> weight update model (static here because it is used with pretrained weights)\n",
        "\n",
        "#  {} -> parameters for synapse updates (learning rule ?)\n",
        "\n",
        "#  {\"g\": w.flatten()} -> initial values of synapse weights. Here, Initialise the weight of each synapse to the pre-trained weights\n",
        "\n",
        "#  {} -> dict with initial values for WeightUpdateModels presynaptic variables\n",
        "\n",
        "#  {} -> \tdict with initial values for WeightUpdateModels postsynaptic variables\n",
        "\n",
        "#  DeltaCurr -> built-in delta postsynaptic model     (?)\n",
        "\n",
        "#  {} -> dict with param values for the PostsynapticModels class\n",
        "                                                                           # built-in delta postsynaptic model has no parameters or variables\n",
        "#  {} -> dict with initial variable values for the PostsynapticModels class "
      ],
      "execution_count": 52,
      "outputs": []
    },
    {
      "cell_type": "code",
      "metadata": {
        "id": "tiUGqC3MoJ3O",
        "colab_type": "code",
        "colab": {}
      },
      "source": [
        "# Create current source to deliver input to first layers of neurons\n",
        "current_input = model.add_current_source(\"current_input\", cs_model,\n",
        "                                         \"neuron0\" , {}, {\"magnitude\": 0.0})\n",
        "\n",
        "# cs_model -> current source model (defined earlier)\n",
        "# neuron0 -> population into which the current source should be injected\n",
        "# {} -> dict with param values for cs_model\n",
        "# {\"magnitude\": 0.0} -> \tdict with initial variable values for cs_model"
      ],
      "execution_count": 53,
      "outputs": []
    },
    {
      "cell_type": "code",
      "metadata": {
        "id": "Ay7yuqMFpVPk",
        "colab_type": "code",
        "colab": {}
      },
      "source": [
        "# Build and load our model\n",
        "model.build()\n",
        "model.load()"
      ],
      "execution_count": 54,
      "outputs": []
    },
    {
      "cell_type": "markdown",
      "metadata": {
        "id": "UbrTfnenpr3u",
        "colab_type": "text"
      },
      "source": [
        "## Simulation"
      ]
    },
    {
      "cell_type": "code",
      "metadata": {
        "id": "AqrEvnQDpWCY",
        "colab_type": "code",
        "colab": {}
      },
      "source": [
        "# Load MNIST testing data\n",
        "testing_images = np.load(\"pygenn_ml_tutorial/testing_images.npy\")\n",
        "testing_labels = np.load(\"pygenn_ml_tutorial/testing_labels.npy\")\n"
      ],
      "execution_count": 55,
      "outputs": []
    },
    {
      "cell_type": "code",
      "metadata": {
        "id": "f0x95al0qNnn",
        "colab_type": "code",
        "colab": {
          "base_uri": "https://localhost:8080/",
          "height": 34
        },
        "outputId": "d747f5dc-f7bb-455e-afcd-ba99a29e807c"
      },
      "source": [
        "testing_images.shape, testing_labels.shape"
      ],
      "execution_count": 56,
      "outputs": [
        {
          "output_type": "execute_result",
          "data": {
            "text/plain": [
              "((10000, 784), (10000,))"
            ]
          },
          "metadata": {
            "tags": []
          },
          "execution_count": 56
        }
      ]
    },
    {
      "cell_type": "code",
      "metadata": {
        "id": "mJTpZykPqUBJ",
        "colab_type": "code",
        "colab": {
          "base_uri": "https://localhost:8080/",
          "height": 34
        },
        "outputId": "57faacd8-8085-4d53-da21-7bfb4a47787d"
      },
      "source": [
        "weights[0].shape, weights[1].shape"
      ],
      "execution_count": 57,
      "outputs": [
        {
          "output_type": "execute_result",
          "data": {
            "text/plain": [
              "((784, 128), (128, 10))"
            ]
          },
          "metadata": {
            "tags": []
          },
          "execution_count": 57
        }
      ]
    },
    {
      "cell_type": "code",
      "metadata": {
        "id": "UW8QzpGjHIzQ",
        "colab_type": "code",
        "colab": {}
      },
      "source": [
        "# Check dimensions match network\n",
        "assert testing_images.shape[1] == weights[0].shape[0]\n",
        "assert np.max(testing_labels) == (weights[1].shape[1] - 1)"
      ],
      "execution_count": 58,
      "outputs": []
    },
    {
      "cell_type": "code",
      "metadata": {
        "id": "AELLK3PWp_Ob",
        "colab_type": "code",
        "colab": {}
      },
      "source": [
        "# Set current input by scaling first image\n",
        "current_input.vars[\"magnitude\"].view[:] = testing_images[0] * INPUT_CURRENT_SCALE\n",
        "\n",
        "# Copy first image into memory view of current source magnitude"
      ],
      "execution_count": 61,
      "outputs": []
    },
    {
      "cell_type": "code",
      "metadata": {
        "id": "a5R1anohqcE5",
        "colab_type": "code",
        "colab": {}
      },
      "source": [
        "# Upload\n",
        "current_input.push_var_to_device(\"magnitude\")\n",
        "\n",
        "# Upload \"magnitude\" variable to GPU"
      ],
      "execution_count": null,
      "outputs": []
    },
    {
      "cell_type": "code",
      "metadata": {
        "id": "KgqhVlOTqqpp",
        "colab_type": "code",
        "colab": {}
      },
      "source": [
        "neuron_layers"
      ],
      "execution_count": null,
      "outputs": []
    },
    {
      "cell_type": "markdown",
      "metadata": {
        "id": "VATfcHHlsGHh",
        "colab_type": "text"
      },
      "source": [
        "### Classifying a single image"
      ]
    },
    {
      "cell_type": "code",
      "metadata": {
        "id": "1Cp5K5hTqkKQ",
        "colab_type": "code",
        "colab": {}
      },
      "source": [
        "# Simulate\n",
        "layer_spikes = [[] for i, _ in enumerate(neuron_layers)]\n",
        "while model.timestep < PRESENT_TIMESTEPS:\n",
        "    # Advance simulation\n",
        "    model.step_time()\n",
        "\n",
        "    # Loop through neuron layers\n",
        "    for i, l in enumerate(neuron_layers):\n",
        "        # Download spikes\n",
        "        l.pull_current_spikes_from_device()        # Download spike emitted this timestep from GPU\n",
        "\n",
        "        # Add to data structure\n",
        "        layer_spikes[i].append(np.copy(l.current_spikes))        # Add spikes to data structure "
      ],
      "execution_count": null,
      "outputs": []
    },
    {
      "cell_type": "code",
      "metadata": {
        "id": "WKILUi9FrEzj",
        "colab_type": "code",
        "colab": {}
      },
      "source": [
        "# ----------------------------------------------------------------------------\n",
        "# Plotting\n",
        "# One plot for spikes in each neuron layer\n",
        "# ----------------------------------------------------------------------------\n",
        "import matplotlib.pyplot as plt\n",
        "\n",
        "# Create a plot with axes for each\n",
        "fig, axes = plt.subplots(len(neuron_layers), sharex=True)\n",
        "\n",
        "# Loop through axes and their corresponding neuron populations\n",
        "for ax, spk, lyr in zip(axes, layer_spikes, neuron_layers):\n",
        "    spike_ids = np.concatenate(spk)\n",
        "    spike_times = np.concatenate([np.ones_like(s) * i * TIMESTEP \n",
        "                                  for i, s in enumerate(spk)])\n",
        "\n",
        "    # Plot spikes\n",
        "    ax.scatter(spike_times, spike_ids, s=1)\n",
        "\n",
        "    # Set title, axis labels\n",
        "    ax.set_title(lyr.name)\n",
        "    ax.set_ylabel(\"Spike number\")\n",
        "    ax.set_xlim((0, PRESENT_TIMESTEPS * TIMESTEP))\n",
        "    ax.set_ylim((0, l.size))\n",
        "\n",
        "\n",
        "# Add an x-axis label and translucent line showing the correct label\n",
        "axes[-1].set_xlabel(\"Time [ms]\")\n",
        "axes[-1].hlines(testing_labels[0], xmin=0, xmax=PRESENT_TIMESTEPS,\n",
        "                linestyle=\"--\", color=\"gray\", alpha=0.2)\n",
        "\n",
        "# Show plot\n",
        "plt.show()"
      ],
      "execution_count": null,
      "outputs": []
    },
    {
      "cell_type": "markdown",
      "metadata": {
        "id": "Br0HXmmnsLAy",
        "colab_type": "text"
      },
      "source": [
        "### Classifying all images in the test set"
      ]
    },
    {
      "cell_type": "code",
      "metadata": {
        "id": "YKEtqg8Fs2AF",
        "colab_type": "code",
        "colab": {}
      },
      "source": [
        "# Get views to efficiently access state variables\n",
        "current_input_magnitude = current_input.vars[\"magnitude\"].view\n",
        "output_spike_count = neuron_layers[-1].vars[\"SpikeCount\"].view\n",
        "layer_voltages = [l.vars[\"V\"].view for l in neuron_layers]       # Cache memory views of required state variables (?)"
      ],
      "execution_count": null,
      "outputs": []
    },
    {
      "cell_type": "code",
      "metadata": {
        "id": "8esb_J5yr_At",
        "colab_type": "code",
        "colab": {}
      },
      "source": [
        "# Simulate\n",
        "num_correct = 0\n",
        "while model.timestep < (PRESENT_TIMESTEPS * testing_images.shape[0]):\n",
        "    # Calculate the timestep within the presentation\n",
        "    timestep_in_example = model.timestep % PRESENT_TIMESTEPS           # Divide timestep into example index and timestep within example\n",
        "    example = int(model.timestep // PRESENT_TIMESTEPS)\n",
        "\n",
        "    # If this is the first timestep of presenting the example\n",
        "    if timestep_in_example == 0:\n",
        "        current_input_magnitude[:] = testing_images[example] * INPUT_CURRENT_SCALE       # Copy image into memory   view and upload to GPU\n",
        "        current_input.push_var_to_device(\"magnitude\")\n",
        "\n",
        "        # Loop through all layers and their corresponding voltage views\n",
        "        for l, v in zip(neuron_layers, layer_voltages):\n",
        "            # Manually 'reset' voltage\n",
        "            v[:] = 0.0                                                           # Set all neuron voltages to zero \n",
        "\n",
        "            # Upload\n",
        "            l.push_var_to_device(\"V\")                                            # Upload to GPU\n",
        "\n",
        "        # Zero spike count\n",
        "        output_spike_count[:] = 0\n",
        "        neuron_layers[-1].push_var_to_device(\"SpikeCount\")                       # Zero spike count for all output layer neurons and upload to GPU\n",
        "\n",
        "    # Advance simulation\n",
        "    model.step_time()                                                            # Advance simulation\n",
        "\n",
        "    # If this is the LAST timestep of presenting the example\n",
        "    if timestep_in_example == (PRESENT_TIMESTEPS - 1):\n",
        "        # Download spike count from last layer\n",
        "        neuron_layers[-1].pull_var_from_device(\"SpikeCount\")                     # Download output layer spike count\n",
        "\n",
        "        # Find which neuron spiked the most to get prediction\n",
        "        predicted_label = np.argmax(output_spike_count)\n",
        "        true_label = testing_labels[example]\n",
        "\n",
        "        print(\"\\tExample=%u, true label=%u, predicted label=%u\" % (example,\n",
        "                                                                   true_label,\n",
        "                                                                   predicted_label))\n",
        "\n",
        "        if predicted_label == true_label:\n",
        "            num_correct += 1\n",
        "\n",
        "print(\"Accuracy %f%%\" % ((num_correct / float(testing_images.shape[0])) * 100.0))"
      ],
      "execution_count": null,
      "outputs": []
    }
  ]
}